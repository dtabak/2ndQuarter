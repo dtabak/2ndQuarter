{
 "cells": [
  {
   "cell_type": "markdown",
   "metadata": {},
   "source": [
    "# Assignment 03 - Jan 22nd, 2018"
   ]
  },
  {
   "cell_type": "markdown",
   "metadata": {},
   "source": [
    "This notebook presents a simluation of Monty Hall Problem. It demonstrates that switching is always better than staying with your initial guess. "
   ]
  },
  {
   "cell_type": "markdown",
   "metadata": {},
   "source": [
    "First of all, the function below was created to perform simulation. "
   ]
  },
  {
   "cell_type": "code",
   "execution_count": 22,
   "metadata": {
    "collapsed": true
   },
   "outputs": [],
   "source": [
    "montyHall <- function(strat='stay', N=100)\n",
    "{\n",
    "    doors <- 1:3 #initialize the doors behind one of which is a good prize\n",
    "    total.win <- 0 #to keep track of number of wins\n",
    "    d <- NULL # Initalize a dataframe\n",
    "    \n",
    "    for(i in 1:N)\n",
    "    {\n",
    "      prize <- ceiling(runif(1,0,3)) #randomize which door has the good prize\n",
    "      guess <- ceiling(runif(1,0,3)) #guess a door at random\n",
    "      \n",
    "      ## Reveal one of the doors you didn't pick which has a bum prize\n",
    "      if(prize != guess)\n",
    "        reveal <- doors[-c(prize, guess)]\n",
    "      else\n",
    "        reveal <- sample(doors[-c(prize)],1)\n",
    "      \n",
    "      ## Stay with your initial guess or switch\n",
    "      if(strat == 'switch')\n",
    "        select <- doors[-c(reveal, guess)]\n",
    "      else\n",
    "        select <- guess\n",
    "      \n",
    "      ## Establish the result\n",
    "      if(select == prize)\n",
    "        result <- 1\n",
    "      else \n",
    "        result <- 0\n",
    "      \n",
    "      ## Count up your wins\n",
    "      if(select == prize)\n",
    "        total.win <- total.win+1\n",
    "      \n",
    "      ## Create a matrix to keep track of the result of each case \n",
    "      d <- rbind(d, data.frame(guess, reveal, prize, select, result, total.win))\n",
    "    }\n",
    "    print(d)\n",
    "    ## Print the win percentage of your strategy\n",
    "    cat(paste('Using the ',strat,' strategy, your win percentage was ',total.win/N*100,'%\\n',sep=''))\n",
    "}\n"
   ]
  },
  {
   "cell_type": "markdown",
   "metadata": {},
   "source": [
    "Now, let's start with running the function for not switching strategy. "
   ]
  },
  {
   "cell_type": "code",
   "execution_count": 23,
   "metadata": {},
   "outputs": [
    {
     "name": "stdout",
     "output_type": "stream",
     "text": [
      "    guess reveal prize select result total.win\n",
      "1       1      3     2      1      0         0\n",
      "2       3      1     2      3      0         0\n",
      "3       2      3     1      2      0         0\n",
      "4       3      2     3      3      1         1\n",
      "5       1      2     3      1      0         1\n",
      "6       2      3     1      2      0         1\n",
      "7       1      3     1      1      1         2\n",
      "8       2      1     3      2      0         2\n",
      "9       1      3     2      1      0         2\n",
      "10      2      1     3      2      0         2\n",
      "11      3      1     2      3      0         2\n",
      "12      3      1     2      3      0         2\n",
      "13      1      2     3      1      0         2\n",
      "14      2      1     3      2      0         2\n",
      "15      3      2     3      3      1         3\n",
      "16      1      2     3      1      0         3\n",
      "17      2      3     1      2      0         3\n",
      "18      1      2     3      1      0         3\n",
      "19      2      3     1      2      0         3\n",
      "20      3      1     2      3      0         3\n",
      "21      1      2     1      1      1         4\n",
      "22      3      2     1      3      0         4\n",
      "23      3      2     1      3      0         4\n",
      "24      3      1     3      3      1         5\n",
      "25      2      3     2      2      1         6\n",
      "26      1      2     1      1      1         7\n",
      "27      1      2     3      1      0         7\n",
      "28      3      2     1      3      0         7\n",
      "29      1      3     2      1      0         7\n",
      "30      1      3     2      1      0         7\n",
      "31      1      3     2      1      0         7\n",
      "32      3      2     3      3      1         8\n",
      "33      1      3     1      1      1         9\n",
      "34      1      2     1      1      1        10\n",
      "35      3      1     2      3      0        10\n",
      "36      3      1     2      3      0        10\n",
      "37      3      1     2      3      0        10\n",
      "38      2      3     1      2      0        10\n",
      "39      1      3     2      1      0        10\n",
      "40      2      1     2      2      1        11\n",
      "41      1      2     3      1      0        11\n",
      "42      3      2     1      3      0        11\n",
      "43      2      3     1      2      0        11\n",
      "44      1      2     3      1      0        11\n",
      "45      3      2     3      3      1        12\n",
      "46      2      3     1      2      0        12\n",
      "47      1      3     2      1      0        12\n",
      "48      3      2     1      3      0        12\n",
      "49      2      3     2      2      1        13\n",
      "50      1      2     1      1      1        14\n",
      "51      2      3     1      2      0        14\n",
      "52      1      3     2      1      0        14\n",
      "53      3      1     2      3      0        14\n",
      "54      2      3     2      2      1        15\n",
      "55      2      3     1      2      0        15\n",
      "56      2      1     3      2      0        15\n",
      "57      3      2     3      3      1        16\n",
      "58      1      3     2      1      0        16\n",
      "59      1      2     3      1      0        16\n",
      "60      1      2     1      1      1        17\n",
      "61      2      1     3      2      0        17\n",
      "62      1      2     3      1      0        17\n",
      "63      1      3     2      1      0        17\n",
      "64      2      3     1      2      0        17\n",
      "65      3      2     1      3      0        17\n",
      "66      1      3     1      1      1        18\n",
      "67      1      2     1      1      1        19\n",
      "68      2      3     1      2      0        19\n",
      "69      2      1     3      2      0        19\n",
      "70      3      2     1      3      0        19\n",
      "71      3      1     2      3      0        19\n",
      "72      1      2     3      1      0        19\n",
      "73      3      2     1      3      0        19\n",
      "74      3      1     2      3      0        19\n",
      "75      2      1     3      2      0        19\n",
      "76      1      3     1      1      1        20\n",
      "77      1      3     2      1      0        20\n",
      "78      1      2     3      1      0        20\n",
      "79      3      1     3      3      1        21\n",
      "80      2      3     1      2      0        21\n",
      "81      1      2     3      1      0        21\n",
      "82      3      2     3      3      1        22\n",
      "83      3      2     1      3      0        22\n",
      "84      3      2     3      3      1        23\n",
      "85      1      3     2      1      0        23\n",
      "86      2      3     2      2      1        24\n",
      "87      1      2     1      1      1        25\n",
      "88      3      2     3      3      1        26\n",
      "89      2      3     2      2      1        27\n",
      "90      2      3     1      2      0        27\n",
      "91      3      1     2      3      0        27\n",
      "92      1      2     3      1      0        27\n",
      "93      3      1     2      3      0        27\n",
      "94      1      2     3      1      0        27\n",
      "95      1      3     2      1      0        27\n",
      "96      2      3     1      2      0        27\n",
      "97      3      1     3      3      1        28\n",
      "98      2      3     1      2      0        28\n",
      "99      1      2     3      1      0        28\n",
      "100     3      1     2      3      0        28\n",
      "Using the stay strategy, your win percentage was 28%\n"
     ]
    }
   ],
   "source": [
    "montyHall()"
   ]
  },
  {
   "cell_type": "markdown",
   "metadata": {},
   "source": [
    "As could be seen in the result set, when you simulate the game for 100 times your win percentage for sticking to your initial guess is 28%. \n",
    "Now, the simulation is going to be run for switching strategy. "
   ]
  },
  {
   "cell_type": "code",
   "execution_count": 24,
   "metadata": {},
   "outputs": [
    {
     "name": "stdout",
     "output_type": "stream",
     "text": [
      "    guess reveal prize select result total.win\n",
      "1       2      1     2      3      0         0\n",
      "2       2      1     3      3      1         1\n",
      "3       3      1     2      2      1         2\n",
      "4       2      1     2      3      0         2\n",
      "5       2      3     2      1      0         2\n",
      "6       3      2     1      1      1         3\n",
      "7       3      2     1      1      1         4\n",
      "8       3      1     2      2      1         5\n",
      "9       2      3     1      1      1         6\n",
      "10      1      3     1      2      0         6\n",
      "11      1      2     1      3      0         6\n",
      "12      3      1     3      2      0         6\n",
      "13      2      1     3      3      1         7\n",
      "14      2      1     2      3      0         7\n",
      "15      2      3     2      1      0         7\n",
      "16      2      3     1      1      1         8\n",
      "17      1      3     2      2      1         9\n",
      "18      1      3     2      2      1        10\n",
      "19      3      1     2      2      1        11\n",
      "20      3      2     1      1      1        12\n",
      "21      2      1     3      3      1        13\n",
      "22      2      3     1      1      1        14\n",
      "23      3      2     1      1      1        15\n",
      "24      2      1     3      3      1        16\n",
      "25      1      2     1      3      0        16\n",
      "26      2      1     2      3      0        16\n",
      "27      3      2     1      1      1        17\n",
      "28      3      2     1      1      1        18\n",
      "29      1      3     2      2      1        19\n",
      "30      2      1     2      3      0        19\n",
      "31      2      3     1      1      1        20\n",
      "32      2      3     1      1      1        21\n",
      "33      2      3     1      1      1        22\n",
      "34      3      2     3      1      0        22\n",
      "35      3      2     1      1      1        23\n",
      "36      1      3     2      2      1        24\n",
      "37      2      3     2      1      0        24\n",
      "38      2      1     3      3      1        25\n",
      "39      3      1     2      2      1        26\n",
      "40      1      3     2      2      1        27\n",
      "41      1      2     1      3      0        27\n",
      "42      1      2     3      3      1        28\n",
      "43      3      2     3      1      0        28\n",
      "44      2      1     3      3      1        29\n",
      "45      2      1     2      3      0        29\n",
      "46      3      1     2      2      1        30\n",
      "47      3      1     2      2      1        31\n",
      "48      2      1     3      3      1        32\n",
      "49      2      1     3      3      1        33\n",
      "50      1      3     2      2      1        34\n",
      "51      3      1     2      2      1        35\n",
      "52      2      3     2      1      0        35\n",
      "53      2      3     1      1      1        36\n",
      "54      1      3     1      2      0        36\n",
      "55      3      2     1      1      1        37\n",
      "56      2      3     1      1      1        38\n",
      "57      2      1     2      3      0        38\n",
      "58      3      1     3      2      0        38\n",
      "59      3      1     3      2      0        38\n",
      "60      1      3     2      2      1        39\n",
      "61      1      2     3      3      1        40\n",
      "62      1      2     1      3      0        40\n",
      "63      3      2     1      1      1        41\n",
      "64      3      2     1      1      1        42\n",
      "65      2      1     3      3      1        43\n",
      "66      1      3     1      2      0        43\n",
      "67      1      2     1      3      0        43\n",
      "68      2      1     3      3      1        44\n",
      "69      3      2     3      1      0        44\n",
      "70      2      3     1      1      1        45\n",
      "71      1      2     3      3      1        46\n",
      "72      2      1     3      3      1        47\n",
      "73      3      1     3      2      0        47\n",
      "74      2      3     1      1      1        48\n",
      "75      1      3     2      2      1        49\n",
      "76      1      3     2      2      1        50\n",
      "77      3      2     3      1      0        50\n",
      "78      2      3     1      1      1        51\n",
      "79      2      1     3      3      1        52\n",
      "80      3      1     3      2      0        52\n",
      "81      1      2     3      3      1        53\n",
      "82      3      2     1      1      1        54\n",
      "83      2      3     2      1      0        54\n",
      "84      3      2     1      1      1        55\n",
      "85      3      1     2      2      1        56\n",
      "86      1      2     3      3      1        57\n",
      "87      3      1     2      2      1        58\n",
      "88      3      2     1      1      1        59\n",
      "89      2      1     3      3      1        60\n",
      "90      2      3     1      1      1        61\n",
      "91      1      2     3      3      1        62\n",
      "92      3      2     1      1      1        63\n",
      "93      3      2     1      1      1        64\n",
      "94      2      3     1      1      1        65\n",
      "95      2      1     3      3      1        66\n",
      "96      2      3     1      1      1        67\n",
      "97      1      3     1      2      0        67\n",
      "98      3      1     2      2      1        68\n",
      "99      1      3     2      2      1        69\n",
      "100     3      1     2      2      1        70\n",
      "Using the switch strategy, your win percentage was 70%\n"
     ]
    }
   ],
   "source": [
    "montyHall(strat='switch')"
   ]
  },
  {
   "cell_type": "markdown",
   "metadata": {},
   "source": [
    "As could be seen in the result set, when you simulate the game for 100 times your win percentage for switching is 70%. It is evident that switching would be the winning strategy in this game.  "
   ]
  },
  {
   "cell_type": "markdown",
   "metadata": {},
   "source": [
    "Now, histograms of the probabilities of winning a car or goat for each strategy will be presented. The output of the function that was created should be set to numeric value to perform this. So, the text as print out is going to be removed.  "
   ]
  },
  {
   "cell_type": "code",
   "execution_count": 26,
   "metadata": {
    "collapsed": true
   },
   "outputs": [],
   "source": [
    "montyHall <- function(strat='stay', N=100)\n",
    "{\n",
    "    doors <- 1:3 #initialize the doors behind one of which is a good prize\n",
    "    win <- 0 #to keep track of number of wins\n",
    "    d <- NULL # Initalize a dataframe\n",
    "    \n",
    "    for(i in 1:N)\n",
    "    {\n",
    "      prize <- ceiling(runif(1,0,3)) #randomize which door has the good prize\n",
    "      guess <- ceiling(runif(1,0,3)) #guess a door at random\n",
    "      \n",
    "      ## Reveal one of the doors you didn't pick which has a bum prize\n",
    "      if(prize != guess)\n",
    "        reveal <- doors[-c(prize, guess)]\n",
    "      else\n",
    "        reveal <- sample(doors[-c(prize)],1)\n",
    "      \n",
    "      ## Stay with your initial guess or switch\n",
    "      if(strat == 'switch')\n",
    "        select <- doors[-c(reveal, guess)]\n",
    "      else\n",
    "        select <- guess\n",
    "      \n",
    "      ## Establish the result\n",
    "      if(select == prize)\n",
    "        result <- 1\n",
    "      else \n",
    "        result <- 0\n",
    "      \n",
    "      ## Count up your wins\n",
    "      if(select == prize)\n",
    "        win <- win+1\n",
    "      \n",
    "      ## Create a matrix to keep track of the result of each case \n",
    "      d <- rbind(d, data.frame(guess, reveal, prize, select, result, win))\n",
    "    }\n",
    "    d\n",
    "}"
   ]
  },
  {
   "cell_type": "markdown",
   "metadata": {},
   "source": [
    "Now, I should be able to draw histograms of results. I am going to start with the histogram of results in not switching strategy. The simulation is going to be run for 1000 times to be more accurate. "
   ]
  },
  {
   "cell_type": "code",
   "execution_count": 8,
   "metadata": {},
   "outputs": [
    {
     "data": {
      "image/png": "[encoded data removed]",
      "text/plain": [
       "Plot with title “Histogram of results without switching”"
      ]
     },
     "metadata": {},
     "output_type": "display_data"
    }
   ],
   "source": [
    "hist(montyHall(N=1000)$result, \n",
    "     main='Histogram of results without switching', \n",
    "     col=\"green\",  xlim=c(0,1), \n",
    "     xlab='Probability of winning', las=1, \n",
    "     breaks=2)"
   ]
  },
  {
   "cell_type": "markdown",
   "metadata": {},
   "source": [
    "Let's present the histogram for switching strategy as well."
   ]
  },
  {
   "cell_type": "code",
   "execution_count": 9,
   "metadata": {},
   "outputs": [
    {
     "data": {
      "image/png": "[encoded data removed]",
      "text/plain": [
       "Plot with title “Histogram of results without switching”"
      ]
     },
     "metadata": {},
     "output_type": "display_data"
    }
   ],
   "source": [
    "hist(montyHall(strat='switch', N=1000)$result, \n",
    "     main='Histogram of results without switching', \n",
    "     col=\"green\",  xlim=c(0,1), \n",
    "     xlab='Probability of winning', las=1, \n",
    "     breaks=2)"
   ]
  },
  {
   "cell_type": "markdown",
   "metadata": {},
   "source": [
    "As could be seen in histograms for both switching and not switching cases, switching startegy would more likely lead to winning results. "
   ]
  },
  {
   "cell_type": "markdown",
   "metadata": {},
   "source": [
    "As the final step, summary statistics is presented below. "
   ]
  },
  {
   "cell_type": "code",
   "execution_count": 30,
   "metadata": {},
   "outputs": [
    {
     "data": {
      "text/plain": [
       "     guess          reveal         prize          select         result    \n",
       " Min.   :1.00   Min.   :1.00   Min.   :1.00   Min.   :1.00   Min.   :0.00  \n",
       " 1st Qu.:1.00   1st Qu.:1.00   1st Qu.:1.00   1st Qu.:1.00   1st Qu.:0.00  \n",
       " Median :2.00   Median :2.00   Median :2.00   Median :2.00   Median :0.00  \n",
       " Mean   :1.98   Mean   :2.05   Mean   :2.01   Mean   :1.98   Mean   :0.33  \n",
       " 3rd Qu.:3.00   3rd Qu.:3.00   3rd Qu.:3.00   3rd Qu.:3.00   3rd Qu.:1.00  \n",
       " Max.   :3.00   Max.   :3.00   Max.   :3.00   Max.   :3.00   Max.   :1.00  \n",
       "      win       \n",
       " Min.   : 1.00  \n",
       " 1st Qu.: 7.00  \n",
       " Median :13.50  \n",
       " Mean   :15.52  \n",
       " 3rd Qu.:24.00  \n",
       " Max.   :33.00  "
      ]
     },
     "metadata": {},
     "output_type": "display_data"
    },
    {
     "data": {
      "text/html": [
       "<table>\n",
       "<thead><tr><th></th><th scope=col>guess</th><th scope=col>reveal</th><th scope=col>prize</th><th scope=col>select</th><th scope=col>result</th><th scope=col>win</th></tr></thead>\n",
       "<tbody>\n",
       "\t<tr><th scope=row>guess</th><td> 0.58222222 </td><td>-0.295959596</td><td> 0.07191919 </td><td> 0.58222222 </td><td> 0.020404040</td><td>  0.44222222</td></tr>\n",
       "\t<tr><th scope=row>reveal</th><td>-0.29595960 </td><td> 0.714646465</td><td>-0.39292929 </td><td>-0.29595960 </td><td>-0.006565657</td><td>  0.03686869</td></tr>\n",
       "\t<tr><th scope=row>prize</th><td> 0.07191919 </td><td>-0.392929293</td><td> 0.68646465 </td><td> 0.07191919 </td><td> 0.047070707</td><td>  0.31050505</td></tr>\n",
       "\t<tr><th scope=row>select</th><td> 0.58222222 </td><td>-0.295959596</td><td> 0.07191919 </td><td> 0.58222222 </td><td> 0.020404040</td><td>  0.44222222</td></tr>\n",
       "\t<tr><th scope=row>result</th><td> 0.02040404 </td><td>-0.006565657</td><td> 0.04707071 </td><td> 0.02040404 </td><td> 0.223333333</td><td>  0.37666667</td></tr>\n",
       "\t<tr><th scope=row>win</th><td> 0.44222222 </td><td> 0.036868687</td><td> 0.31050505 </td><td> 0.44222222 </td><td> 0.376666667</td><td>111.34656566</td></tr>\n",
       "</tbody>\n",
       "</table>\n"
      ],
      "text/latex": [
       "\\begin{tabular}{r|llllll}\n",
       "  & guess & reveal & prize & select & result & win\\\\\n",
       "\\hline\n",
       "\tguess &  0.58222222  & -0.295959596 &  0.07191919  &  0.58222222  &  0.020404040 &   0.44222222\\\\\n",
       "\treveal & -0.29595960  &  0.714646465 & -0.39292929  & -0.29595960  & -0.006565657 &   0.03686869\\\\\n",
       "\tprize &  0.07191919  & -0.392929293 &  0.68646465  &  0.07191919  &  0.047070707 &   0.31050505\\\\\n",
       "\tselect &  0.58222222  & -0.295959596 &  0.07191919  &  0.58222222  &  0.020404040 &   0.44222222\\\\\n",
       "\tresult &  0.02040404  & -0.006565657 &  0.04707071  &  0.02040404  &  0.223333333 &   0.37666667\\\\\n",
       "\twin &  0.44222222  &  0.036868687 &  0.31050505  &  0.44222222  &  0.376666667 & 111.34656566\\\\\n",
       "\\end{tabular}\n"
      ],
      "text/markdown": [
       "\n",
       "| <!--/--> | guess | reveal | prize | select | result | win | \n",
       "|---|---|---|---|---|---|\n",
       "| guess |  0.58222222  | -0.295959596 |  0.07191919  |  0.58222222  |  0.020404040 |   0.44222222 | \n",
       "| reveal | -0.29595960  |  0.714646465 | -0.39292929  | -0.29595960  | -0.006565657 |   0.03686869 | \n",
       "| prize |  0.07191919  | -0.392929293 |  0.68646465  |  0.07191919  |  0.047070707 |   0.31050505 | \n",
       "| select |  0.58222222  | -0.295959596 |  0.07191919  |  0.58222222  |  0.020404040 |   0.44222222 | \n",
       "| result |  0.02040404  | -0.006565657 |  0.04707071  |  0.02040404  |  0.223333333 |   0.37666667 | \n",
       "| win |  0.44222222  |  0.036868687 |  0.31050505  |  0.44222222  |  0.376666667 | 111.34656566 | \n",
       "\n",
       "\n"
      ],
      "text/plain": [
       "       guess       reveal       prize       select      result      \n",
       "guess   0.58222222 -0.295959596  0.07191919  0.58222222  0.020404040\n",
       "reveal -0.29595960  0.714646465 -0.39292929 -0.29595960 -0.006565657\n",
       "prize   0.07191919 -0.392929293  0.68646465  0.07191919  0.047070707\n",
       "select  0.58222222 -0.295959596  0.07191919  0.58222222  0.020404040\n",
       "result  0.02040404 -0.006565657  0.04707071  0.02040404  0.223333333\n",
       "win     0.44222222  0.036868687  0.31050505  0.44222222  0.376666667\n",
       "       win         \n",
       "guess    0.44222222\n",
       "reveal   0.03686869\n",
       "prize    0.31050505\n",
       "select   0.44222222\n",
       "result   0.37666667\n",
       "win    111.34656566"
      ]
     },
     "metadata": {},
     "output_type": "display_data"
    }
   ],
   "source": [
    "summary(montyHall())\n",
    "var(montyHall())"
   ]
  },
  {
   "cell_type": "code",
   "execution_count": 31,
   "metadata": {},
   "outputs": [
    {
     "data": {
      "text/plain": [
       "     guess       reveal         prize          select         result    \n",
       " Min.   :1   Min.   :1.00   Min.   :1.00   Min.   :1.00   Min.   :0.00  \n",
       " 1st Qu.:1   1st Qu.:1.00   1st Qu.:1.00   1st Qu.:1.00   1st Qu.:0.00  \n",
       " Median :2   Median :2.00   Median :2.00   Median :2.00   Median :1.00  \n",
       " Mean   :2   Mean   :2.05   Mean   :1.94   Mean   :1.95   Mean   :0.63  \n",
       " 3rd Qu.:3   3rd Qu.:3.00   3rd Qu.:3.00   3rd Qu.:3.00   3rd Qu.:1.00  \n",
       " Max.   :3   Max.   :3.00   Max.   :3.00   Max.   :3.00   Max.   :1.00  \n",
       "      win       \n",
       " Min.   : 0.00  \n",
       " 1st Qu.:15.75  \n",
       " Median :31.50  \n",
       " Mean   :31.54  \n",
       " 3rd Qu.:46.25  \n",
       " Max.   :63.00  "
      ]
     },
     "metadata": {},
     "output_type": "display_data"
    },
    {
     "data": {
      "text/html": [
       "<table>\n",
       "<thead><tr><th></th><th scope=col>guess</th><th scope=col>reveal</th><th scope=col>prize</th><th scope=col>select</th><th scope=col>result</th><th scope=col>win</th></tr></thead>\n",
       "<tbody>\n",
       "\t<tr><th scope=row>guess</th><td> 0.636363636</td><td>-0.27777778 </td><td>-0.006060606</td><td>-0.358585859</td><td>-0.021212121</td><td> -0.14747475</td></tr>\n",
       "\t<tr><th scope=row>reveal</th><td>-0.277777778</td><td> 0.63383838 </td><td>-0.331313131</td><td>-0.356060606</td><td> 0.029797980</td><td>  0.70404040</td></tr>\n",
       "\t<tr><th scope=row>prize</th><td>-0.006060606</td><td>-0.33131313 </td><td> 0.705454545</td><td> 0.337373737</td><td>-0.076363636</td><td>  0.01050505</td></tr>\n",
       "\t<tr><th scope=row>select</th><td>-0.358585859</td><td>-0.35606061 </td><td> 0.337373737</td><td> 0.714646465</td><td>-0.008585859</td><td> -0.55656566</td></tr>\n",
       "\t<tr><th scope=row>result</th><td>-0.021212121</td><td> 0.02979798 </td><td>-0.076363636</td><td>-0.008585859</td><td> 0.240303030</td><td> -0.16020202</td></tr>\n",
       "\t<tr><th scope=row>win</th><td>-0.147474747</td><td> 0.70404040 </td><td> 0.010505051</td><td>-0.556565657</td><td>-0.160202020</td><td>325.50747475</td></tr>\n",
       "</tbody>\n",
       "</table>\n"
      ],
      "text/latex": [
       "\\begin{tabular}{r|llllll}\n",
       "  & guess & reveal & prize & select & result & win\\\\\n",
       "\\hline\n",
       "\tguess &  0.636363636 & -0.27777778  & -0.006060606 & -0.358585859 & -0.021212121 &  -0.14747475\\\\\n",
       "\treveal & -0.277777778 &  0.63383838  & -0.331313131 & -0.356060606 &  0.029797980 &   0.70404040\\\\\n",
       "\tprize & -0.006060606 & -0.33131313  &  0.705454545 &  0.337373737 & -0.076363636 &   0.01050505\\\\\n",
       "\tselect & -0.358585859 & -0.35606061  &  0.337373737 &  0.714646465 & -0.008585859 &  -0.55656566\\\\\n",
       "\tresult & -0.021212121 &  0.02979798  & -0.076363636 & -0.008585859 &  0.240303030 &  -0.16020202\\\\\n",
       "\twin & -0.147474747 &  0.70404040  &  0.010505051 & -0.556565657 & -0.160202020 & 325.50747475\\\\\n",
       "\\end{tabular}\n"
      ],
      "text/markdown": [
       "\n",
       "| <!--/--> | guess | reveal | prize | select | result | win | \n",
       "|---|---|---|---|---|---|\n",
       "| guess |  0.636363636 | -0.27777778  | -0.006060606 | -0.358585859 | -0.021212121 |  -0.14747475 | \n",
       "| reveal | -0.277777778 |  0.63383838  | -0.331313131 | -0.356060606 |  0.029797980 |   0.70404040 | \n",
       "| prize | -0.006060606 | -0.33131313  |  0.705454545 |  0.337373737 | -0.076363636 |   0.01050505 | \n",
       "| select | -0.358585859 | -0.35606061  |  0.337373737 |  0.714646465 | -0.008585859 |  -0.55656566 | \n",
       "| result | -0.021212121 |  0.02979798  | -0.076363636 | -0.008585859 |  0.240303030 |  -0.16020202 | \n",
       "| win | -0.147474747 |  0.70404040  |  0.010505051 | -0.556565657 | -0.160202020 | 325.50747475 | \n",
       "\n",
       "\n"
      ],
      "text/plain": [
       "       guess        reveal      prize        select       result      \n",
       "guess   0.636363636 -0.27777778 -0.006060606 -0.358585859 -0.021212121\n",
       "reveal -0.277777778  0.63383838 -0.331313131 -0.356060606  0.029797980\n",
       "prize  -0.006060606 -0.33131313  0.705454545  0.337373737 -0.076363636\n",
       "select -0.358585859 -0.35606061  0.337373737  0.714646465 -0.008585859\n",
       "result -0.021212121  0.02979798 -0.076363636 -0.008585859  0.240303030\n",
       "win    -0.147474747  0.70404040  0.010505051 -0.556565657 -0.160202020\n",
       "       win         \n",
       "guess   -0.14747475\n",
       "reveal   0.70404040\n",
       "prize    0.01050505\n",
       "select  -0.55656566\n",
       "result  -0.16020202\n",
       "win    325.50747475"
      ]
     },
     "metadata": {},
     "output_type": "display_data"
    }
   ],
   "source": [
    "summary(montyHall(strat='switch'))\n",
    "var(montyHall(strat='switch'))"
   ]
  },
  {
   "cell_type": "code",
   "execution_count": null,
   "metadata": {
    "collapsed": true
   },
   "outputs": [],
   "source": []
  }
 ],
 "metadata": {
  "kernelspec": {
   "display_name": "R",
   "language": "R",
   "name": "ir"
  },
  "language_info": {
   "codemirror_mode": "r",
   "file_extension": ".r",
   "mimetype": "text/x-r-source",
   "name": "R",
   "pygments_lexer": "r",
   "version": "3.4.3"
  }
 },
 "nbformat": 4,
 "nbformat_minor": 2
}
